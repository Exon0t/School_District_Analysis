{
 "cells": [
  {
   "cell_type": "raw",
   "id": "54257570",
   "metadata": {},
   "source": [
    "\n",
    ".split() function splits strings using white spaces as guide lines\n"
   ]
  },
  {
   "cell_type": "code",
   "execution_count": 26,
   "id": "edc0c73b",
   "metadata": {},
   "outputs": [
    {
     "name": "stdout",
     "output_type": "stream",
     "text": [
      "['Anthony', 'Marquez']\n",
      "['david', 'zinger']\n",
      "['Tal', 'fenton']\n"
     ]
    }
   ],
   "source": [
    "list_of_names = [\"Anthony Marquez\", \"david zinger\", \"Tal fenton\"]\n",
    "first_last = []\n",
    "for name in list_of_names:\n",
    "    print(name.split())\n",
    "    "
   ]
  },
  {
   "cell_type": "raw",
   "id": "e50dc6c5",
   "metadata": {},
   "source": [
    ".strip() vs. .replace()\n",
    "strip removes all leters/words in all possible combinations"
   ]
  },
  {
   "cell_type": "code",
   "execution_count": null,
   "id": "6861215b",
   "metadata": {},
   "outputs": [],
   "source": [
    "# Strip \"Mrs.\" from the student names\n",
    "for name in students_to_fix:\n",
    "    print(name.strip(\"Mrs.\"))\n",
    "# Replace \"Dr.\" with an empty string.\n",
    "name = \"Dr. Linda Santiago\"\n",
    "name.replace(\"Dr.\", \"\")\n",
    "    "
   ]
  },
  {
   "cell_type": "code",
   "execution_count": null,
   "id": "22dd5218",
   "metadata": {},
   "outputs": [],
   "source": [
    "#quick way to add all of students name to a list \n",
    "\n",
    "student_names = student_data_df[\"student_name\"].tolist()\n",
    "student_names"
   ]
  },
  {
   "cell_type": "code",
   "execution_count": null,
   "id": "cbf19f7c",
   "metadata": {},
   "outputs": [],
   "source": [
    "# Iterate through the words in the \"prefixes_suffixes\" list and replace them with an empty space, \"\".\n",
    "for word in prefixes_suffixes:\n",
    "    student_data_df[\"student_name\"] = student_data_df[\"student_name\"].str.replace(word,\"\")"
   ]
  },
  {
   "cell_type": "code",
   "execution_count": null,
   "id": "d9a597f4",
   "metadata": {},
   "outputs": [],
   "source": []
  }
 ],
 "metadata": {
  "kernelspec": {
   "display_name": "PythonData",
   "language": "python",
   "name": "pythondata"
  },
  "language_info": {
   "codemirror_mode": {
    "name": "ipython",
    "version": 3
   },
   "file_extension": ".py",
   "mimetype": "text/x-python",
   "name": "python",
   "nbconvert_exporter": "python",
   "pygments_lexer": "ipython3",
   "version": "3.7.11"
  }
 },
 "nbformat": 4,
 "nbformat_minor": 5
}
